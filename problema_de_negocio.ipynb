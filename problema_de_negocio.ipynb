{
 "cells": [
  {
   "cell_type": "markdown",
   "metadata": {},
   "source": [
    "## Identificação do Problema de Negócio"
   ]
  },
  {
   "cell_type": "markdown",
   "metadata": {},
   "source": [
    "#### **Definição do Problema de Negócio:**\n",
    "O problema de negócio que a aplicação irá resolver é a falta de monitoramento eficiente do consumo de energia em residências. Atualmente, muitos consumidores não têm acesso a dados em tempo real ou análises detalhadas que possam ajudá-los a entender e controlar melhor o uso de energia em suas casas. Isso leva a um desperdício de energia, contas de eletricidade mais altas e um impacto ambiental negativo.\n"
   ]
  },
  {
   "cell_type": "markdown",
   "metadata": {},
   "source": [
    "A aplicação será projetada para monitorar o consumo energético residencial, fornecendo insights em tempo real sobre o uso de energia. A solução permitirá que os usuários identifiquem padrões de consumo, reconheçam aparelhos que consomem muita energia e implementem medidas para reduzir o consumo e, consequentemente, os custos e o impacto ambiental."
   ]
  },
  {
   "cell_type": "markdown",
   "metadata": {},
   "source": [
    "#### **Metas e Indicadores de Sucesso:**"
   ]
  },
  {
   "cell_type": "markdown",
   "metadata": {},
   "source": [
    "1. **Redução do Consumo Energético**:\n",
    "   - **Meta**: Reduzir o consumo de energia em residências monitoradas em pelo menos 10% no período de um ano.\n",
    "   - **Indicadores**:\n",
    "     - Medida da redução percentual no consumo de energia mensal.\n",
    "     - Comparação entre o consumo antes e depois da implementação da aplicação.\n"
   ]
  },
  {
   "cell_type": "markdown",
   "metadata": {},
   "source": [
    "2. **Aumento da Conscientização dos Usuários**:\n",
    "   - **Meta**: Aumentar a conscientização dos usuários sobre o impacto de seu consumo energético.\n",
    "   - **Indicadores**:\n",
    "     - Número de interações com o dashboard (visualizações, uso de recursos).\n",
    "     - Adoção de recomendações geradas pela aplicação.\n"
   ]
  },
  {
   "cell_type": "markdown",
   "metadata": {},
   "source": [
    "3. **Eficiência da Aplicação**:\n",
    "   - **Meta**: Fornecer dados e insights precisos e em tempo real sobre o consumo energético.\n",
    "   - **Indicadores**:\n",
    "     - Tempo de resposta da aplicação ao mostrar dados em tempo real.\n",
    "     - Precisão dos insights e recomendações fornecidos com base em dados históricos.\n"
   ]
  },
  {
   "cell_type": "markdown",
   "metadata": {},
   "source": [
    "#### **ODS Atendido:**\n",
    "O projeto atende ao **Objetivo de Desenvolvimento Sustentável 7 (ODS7)**, que visa \"Garantir o acesso a energia acessível, confiável, sustentável e moderna para todos\". Especificamente, o projeto contribui para:\n",
    "- **Meta 7.1**: Assegurar o acesso universal a serviços de energia acessível, confiável e moderna.\n",
    "- **Meta 7.3**: Dobrar a taxa global de melhoria da eficiência energética.\n"
   ]
  },
  {
   "cell_type": "markdown",
   "metadata": {},
   "source": [
    "**Justificativa**:\n",
    "A aplicação ajudará os consumidores a monitorar e gerenciar melhor seu consumo de energia, promovendo o uso eficiente e sustentável da energia em suas residências. Isso está alinhado diretamente com os objetivos do ODS7, incentivando a redução do desperdício de energia e o aumento da eficiência energética.\n"
   ]
  },
  {
   "cell_type": "markdown",
   "metadata": {},
   "source": [
    "#### **Público-Alvo da Aplicação:**\n",
    "O público-alvo da aplicação são:\n",
    "- **Proprietários de Residências**: Pessoas que querem monitorar e reduzir seu consumo de energia para economizar em suas contas de eletricidade e reduzir seu impacto ambiental.\n",
    "- **Inquilinos**: Residentes que pagam suas contas de energia e desejam ter um melhor controle sobre o consumo.\n",
    "- **Condomínios Residenciais**: Administradores que desejam monitorar o consumo de energia em unidades habitacionais para implementar estratégias de eficiência energética.\n",
    "- **Empresas de Energia**: Companhias interessadas em oferecer aos seus clientes ferramentas para monitoramento de energia, como parte de iniciativas de eficiência energética.\n"
   ]
  }
 ],
 "metadata": {
  "language_info": {
   "name": "python"
  }
 },
 "nbformat": 4,
 "nbformat_minor": 2
}
